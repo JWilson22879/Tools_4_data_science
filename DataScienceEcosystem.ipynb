{
 "cells": [
  {
   "cell_type": "markdown",
   "id": "70e13956-337a-4772-8e41-ebdab170eca8",
   "metadata": {},
   "source": [
    "# Data Science Tools and Ecosystem "
   ]
  },
  {
   "cell_type": "markdown",
   "id": "90bfa115-4ebc-4114-8302-6212a7302f33",
   "metadata": {},
   "source": [
    "## Author\n",
    "James Wilson"
   ]
  },
  {
   "cell_type": "markdown",
   "id": "1bd9ad4c-680d-4316-b1f7-421897ea6bea",
   "metadata": {},
   "source": [
    "In this notebook, Data Science Tools and Ecosystem are summarized."
   ]
  },
  {
   "cell_type": "markdown",
   "id": "1522e6a3-4097-4115-b9c8-d252e62ac7fa",
   "metadata": {},
   "source": [
    "**Objectives:**\n",
    " - List popular languages for Data Science\n",
    " - List of commonly used libraries\n",
    " - List of Data Science tools\n",
    " - Examples of evaluating arithmetic expressions in Python"
   ]
  },
  {
   "cell_type": "markdown",
   "id": "62bf7cbd-b0b0-4297-87e0-82938c8cae04",
   "metadata": {},
   "source": [
    "Some of the popular languages that Data Scientists use are:\n",
    "1. Python\n",
    "2. SQL\n",
    "3. R\n",
    "4. JavaScript"
   ]
  },
  {
   "cell_type": "markdown",
   "id": "c724886a-053c-4094-9a10-c7eb7980c443",
   "metadata": {},
   "source": [
    "Some of the commonly used libraries used by Data Scientists include:\n",
    "1. Pandas\n",
    "2. Keras\n",
    "3. ggplot\n",
    "4. dplyr\n",
    "5. Plotly\n",
    "6. Numpy"
   ]
  },
  {
   "cell_type": "markdown",
   "id": "3162513d-f7a4-4532-9826-77482c6fd496",
   "metadata": {},
   "source": [
    "|Data Science Tools|\n",
    "|------------------|\n",
    "| Juptyer Notebook |\n",
    "| RStudio          |\n",
    "| Spyder           |\n"
   ]
  },
  {
   "cell_type": "markdown",
   "id": "66eab171-ac7a-44db-b929-740b5c3aeabd",
   "metadata": {},
   "source": [
    "###  Below are a few examples of evaluating arithmetic expressions in Python"
   ]
  },
  {
   "cell_type": "code",
   "execution_count": 10,
   "id": "fc14e7b6-a1cd-4600-8839-c5ef31be551f",
   "metadata": {},
   "outputs": [
    {
     "data": {
      "text/plain": [
       "17"
      ]
     },
     "execution_count": 10,
     "metadata": {},
     "output_type": "execute_result"
    }
   ],
   "source": [
    "# This a simple arithmetic expression to mutiply then add integers\n",
    "(3*4)+5"
   ]
  },
  {
   "cell_type": "code",
   "execution_count": 14,
   "id": "f1f77722-548a-44e9-aecc-e652cf56753e",
   "metadata": {},
   "outputs": [
    {
     "name": "stdout",
     "output_type": "stream",
     "text": [
      "200 miniutes = 3.33\n"
     ]
    }
   ],
   "source": [
    "#   This will convert 200 minutes to hours by diving by 60\n",
    "print(\"200 miniutes =\", round(200/60, 2))\n"
   ]
  },
  {
   "cell_type": "code",
   "execution_count": null,
   "id": "2a97a888-2dcd-4a28-b804-4f524673cb31",
   "metadata": {},
   "outputs": [],
   "source": []
  }
 ],
 "metadata": {
  "kernelspec": {
   "display_name": "Python 3 (ipykernel)",
   "language": "python",
   "name": "python3"
  },
  "language_info": {
   "codemirror_mode": {
    "name": "ipython",
    "version": 3
   },
   "file_extension": ".py",
   "mimetype": "text/x-python",
   "name": "python",
   "nbconvert_exporter": "python",
   "pygments_lexer": "ipython3",
   "version": "3.12.4"
  }
 },
 "nbformat": 4,
 "nbformat_minor": 5
}
